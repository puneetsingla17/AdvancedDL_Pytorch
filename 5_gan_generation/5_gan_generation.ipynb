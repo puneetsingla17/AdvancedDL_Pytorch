{
 "cells": [
  {
   "cell_type": "code",
   "execution_count": 4,
   "metadata": {
    "colab": {
     "base_uri": "https://localhost:8080/",
     "height": 51
    },
    "colab_type": "code",
    "id": "IMYlMICWII56",
    "outputId": "0a63581b-7b0f-4fb3-caa9-13e6f5e742d1"
   },
   "outputs": [
    {
     "name": "stdout",
     "output_type": "stream",
     "text": [
      "rm: missing operand\n",
      "Try 'rm --help' for more information.\n"
     ]
    }
   ],
   "source": [
    "!ls ./drive/My\\ Drive | grep -P \".jpg\" | xargs -d \"\\n\" -L1 -I \"$\" echo \"./drive/My Drive/$\" | xargs -d \"\\n\" rm"
   ]
  },
  {
   "cell_type": "code",
   "execution_count": 5,
   "metadata": {
    "colab": {
     "base_uri": "https://localhost:8080/",
     "height": 34
    },
    "colab_type": "code",
    "id": "3kKeXenQHiV9",
    "outputId": "bc591154-52d0-48b2-a0e6-8579da45d5ab"
   },
   "outputs": [
    {
     "name": "stdout",
     "output_type": "stream",
     "text": [
      "Drive already mounted at /content/drive; to attempt to forcibly remount, call drive.mount(\"/content/drive\", force_remount=True).\n"
     ]
    }
   ],
   "source": [
    "from google.colab import drive\n",
    "drive.mount('/content/drive')"
   ]
  },
  {
   "cell_type": "code",
   "execution_count": 6,
   "metadata": {
    "colab": {
     "base_uri": "https://localhost:8080/",
     "height": 51
    },
    "colab_type": "code",
    "id": "QIYahNWFnA1B",
    "outputId": "8d3cf18e-acaf-44b7-de24-52768fe36330"
   },
   "outputs": [
    {
     "name": "stdout",
     "output_type": "stream",
     "text": [
      "Archive:  ./drive/My Drive/Colab Notebooks/data.zip\n",
      "replace data/.DS_Store? [y]es, [n]o, [A]ll, [N]one, [r]ename: "
     ]
    }
   ],
   "source": [
    "!unzip ./drive/My\\ Drive/Colab\\ Notebooks/data.zip"
   ]
  },
  {
   "cell_type": "markdown",
   "metadata": {
    "colab_type": "text",
    "id": "XR0vNxrYGhSA"
   },
   "source": [
    "# DCGAN\n",
    "GAN = Generator + Discriminator"
   ]
  },
  {
   "cell_type": "markdown",
   "metadata": {
    "colab_type": "text",
    "id": "Vg6E5kk5GhSB"
   },
   "source": [
    "## Generator\n",
    "(ConvTranspose2d + BatchNorm + ReLU) \\* 4 + ConvTranspose2d + Tanh"
   ]
  },
  {
   "cell_type": "code",
   "execution_count": 0,
   "metadata": {
    "colab": {},
    "colab_type": "code",
    "id": "y0ppmqGvGhSC"
   },
   "outputs": [],
   "source": [
    "import torch.nn as nn"
   ]
  },
  {
   "cell_type": "code",
   "execution_count": 0,
   "metadata": {
    "colab": {},
    "colab_type": "code",
    "id": "FqzqDn6ZGhSG"
   },
   "outputs": [],
   "source": [
    "class Generator(nn.Module):\n",
    "    def __init__(self, z_dim=20, image_size=64):\n",
    "        super(Generator, self).__init__()\n",
    "        \n",
    "        self.layer1 = nn.Sequential(\n",
    "            nn.ConvTranspose2d(z_dim, image_size * 8, kernel_size=4, stride=1),\n",
    "            nn.BatchNorm2d(image_size*8),\n",
    "            nn.ReLU(inplace=True)\n",
    "        )\n",
    "        \n",
    "        self.layer2 = nn.Sequential(\n",
    "            nn.ConvTranspose2d(image_size * 8, image_size*4, kernel_size=4, stride=2, padding=1),\n",
    "            nn.BatchNorm2d(image_size*4),\n",
    "            nn.ReLU(inplace=True)\n",
    "        )\n",
    "        \n",
    "        self.layer3 = nn.Sequential(\n",
    "            nn.ConvTranspose2d(image_size*4, image_size*2, kernel_size=4, stride=2, padding=1),\n",
    "            nn.BatchNorm2d(image_size * 2),\n",
    "            nn.ReLU(inplace=True)\n",
    "        )\n",
    "        \n",
    "        self.layer4 = nn.Sequential(\n",
    "            nn.ConvTranspose2d(image_size*2, image_size, kernel_size=4, stride=2, padding=1),\n",
    "            nn.BatchNorm2d(image_size),\n",
    "            nn.ReLU(inplace=True)\n",
    "        )\n",
    "        \n",
    "        self.last = nn.Sequential(\n",
    "            nn.ConvTranspose2d(image_size, 1, kernel_size=4, stride=2, padding=1),\n",
    "            nn.Tanh()\n",
    "        )\n",
    "        \n",
    "    def forward(self, z):\n",
    "        out = self.layer1(z)\n",
    "        out = self.layer2(out)\n",
    "        out = self.layer3(out)\n",
    "        out = self.layer4(out)\n",
    "        out = self.last(out)\n",
    "        \n",
    "        return out"
   ]
  },
  {
   "cell_type": "code",
   "execution_count": 0,
   "metadata": {
    "colab": {},
    "colab_type": "code",
    "id": "PiXeM2QlGhSJ"
   },
   "outputs": [],
   "source": [
    "import matplotlib.pyplot as plt\n",
    "%matplotlib inline\n",
    "import torch"
   ]
  },
  {
   "cell_type": "code",
   "execution_count": 10,
   "metadata": {
    "colab": {
     "base_uri": "https://localhost:8080/",
     "height": 269
    },
    "colab_type": "code",
    "id": "n5hYToLyGhSK",
    "outputId": "4ffcec0d-d99b-4a52-a016-9560edf76987"
   },
   "outputs": [
    {
     "data": {
      "image/png": "[encoded data removed]",
      "text/plain": [
       "<Figure size 432x288 with 1 Axes>"
      ]
     },
     "metadata": {
      "tags": []
     },
     "output_type": "display_data"
    }
   ],
   "source": [
    "G = Generator(z_dim=20, image_size=64)\n",
    "input_z = torch.randn(1, 20)\n",
    "input_z = input_z.view(input_z.size(0), input_z.size(1), 1, 1)\n",
    "fake_images = G(input_z)\n",
    "\n",
    "img_transformed = fake_images[0][0].detach().numpy()\n",
    "plt.imshow(img_transformed, 'gray')\n",
    "plt.show()"
   ]
  },
  {
   "cell_type": "markdown",
   "metadata": {
    "colab_type": "text",
    "id": "sR-CP_q9GhSP"
   },
   "source": [
    "## Discriminator\n",
    "Vanilla CNN (Activation func. = LeakyReLU)"
   ]
  },
  {
   "cell_type": "code",
   "execution_count": 0,
   "metadata": {
    "colab": {},
    "colab_type": "code",
    "id": "s4riWv1SGhSQ"
   },
   "outputs": [],
   "source": [
    "class Discriminator(nn.Module):\n",
    "    def __init__(self, z_dim=20, image_size=64):\n",
    "        super(Discriminator, self).__init__()\n",
    "        \n",
    "        self.layer1 = nn.Sequential(\n",
    "            nn.Conv2d(1, image_size, kernel_size=4, stride=2, padding=1),\n",
    "            nn.LeakyReLU(0.1, inplace=True)\n",
    "        )\n",
    "        \n",
    "        self.layer2 = nn.Sequential(\n",
    "            nn.Conv2d(image_size, image_size*2, kernel_size=4, stride=2, padding=1),\n",
    "            nn.LeakyReLU(0.1, inplace=True)\n",
    "        )\n",
    "        \n",
    "        self.layer3 = nn.Sequential(\n",
    "            nn.Conv2d(image_size*2, image_size*4, kernel_size=4, stride=2, padding=1),\n",
    "            nn.LeakyReLU(0.1, inplace=True)\n",
    "        )\n",
    "        \n",
    "        self.layer4 = nn.Sequential(\n",
    "            nn.Conv2d(image_size*4, image_size*8, kernel_size=4, stride=2, padding=1),\n",
    "            nn.LeakyReLU(0.1, inplace=True)\n",
    "        )\n",
    "        \n",
    "        self.last = nn.Conv2d(image_size*8, 1, kernel_size=4, stride=1)\n",
    "        \n",
    "    def forward(self, x):\n",
    "        out = self.layer1(x)\n",
    "        out = self.layer2(out)\n",
    "        out = self.layer3(out)\n",
    "        out = self.layer4(out)\n",
    "        out = self.last(out)\n",
    "        \n",
    "        return out"
   ]
  },
  {
   "cell_type": "code",
   "execution_count": 12,
   "metadata": {
    "colab": {
     "base_uri": "https://localhost:8080/",
     "height": 34
    },
    "colab_type": "code",
    "id": "otr8ruuTGhST",
    "outputId": "912891e6-e2f0-4103-c81f-0de036e0ec32"
   },
   "outputs": [
    {
     "name": "stdout",
     "output_type": "stream",
     "text": [
      "tensor([[[[0.4961]]]], grad_fn=<SigmoidBackward>)\n"
     ]
    }
   ],
   "source": [
    "D = Discriminator(z_dim=20, image_size=64)\n",
    "\n",
    "input_z = torch.randn(1, 20)\n",
    "input_z = input_z.view(input_z.size(0), input_z.size(1), 1, 1)\n",
    "fake_images = G(input_z)\n",
    "\n",
    "d_out = D(fake_images)\n",
    "\n",
    "print(nn.Sigmoid()(d_out))"
   ]
  },
  {
   "cell_type": "markdown",
   "metadata": {
    "colab_type": "text",
    "id": "MwCHnyGsGhSW"
   },
   "source": [
    "## DataLoader"
   ]
  },
  {
   "cell_type": "code",
   "execution_count": 0,
   "metadata": {
    "colab": {},
    "colab_type": "code",
    "id": "t5rbE6JSGhSX"
   },
   "outputs": [],
   "source": [
    "from torchvision import transforms\n",
    "import torch.utils.data as data\n",
    "from PIL import Image\n",
    "import torch"
   ]
  },
  {
   "cell_type": "code",
   "execution_count": 0,
   "metadata": {
    "colab": {},
    "colab_type": "code",
    "id": "R2_k9f1QGhSZ"
   },
   "outputs": [],
   "source": [
    "def make_datapath_list():\n",
    "    train_img_list = list()\n",
    "    \n",
    "    for img_idx in range(200):\n",
    "        img_path = './data/img_78/img_7_'+ str(img_idx) + '.jpg'\n",
    "        train_img_list.append(img_path)\n",
    "        \n",
    "        img_path = './data/img_78/img_8_'+str(img_idx)+'.jpg'\n",
    "        train_img_list.append(img_path)\n",
    "        \n",
    "    return train_img_list\n",
    "\n",
    "class ImageTransform():\n",
    "    def __init__(self, mean, std):\n",
    "        self.data_transform = transforms.Compose([\n",
    "            transforms.ToTensor(),\n",
    "            transforms.Normalize(mean, std)\n",
    "        ])\n",
    "        \n",
    "    def __call__(self, img):\n",
    "        return self.data_transform(img)\n",
    "    \n",
    "class GAN_Img_Dataset(data.Dataset):\n",
    "    def __init__(self, file_list, transform):\n",
    "        self.file_list = file_list\n",
    "        self.transform = transform\n",
    "        \n",
    "    def __len__(self):\n",
    "        return len(self.file_list)\n",
    "    \n",
    "    def __getitem__(self, index):\n",
    "        img_path = self.file_list[index]\n",
    "        img = Image.open(img_path)\n",
    "        \n",
    "        img_transformed = self.transform(img)\n",
    "        \n",
    "        return img_transformed"
   ]
  },
  {
   "cell_type": "code",
   "execution_count": 0,
   "metadata": {
    "colab": {},
    "colab_type": "code",
    "id": "jqeH5QhqGhSb"
   },
   "outputs": [],
   "source": [
    "# Dataset\n",
    "train_img_list = make_datapath_list()\n",
    "\n",
    "mean = (0.5,)\n",
    "std = (0.5,)\n",
    "train_dataset = GAN_Img_Dataset(file_list = train_img_list, transform = ImageTransform(mean, std))\n",
    "\n",
    "# DataLoader\n",
    "batch_size=64\n",
    "train_dataloader = torch.utils.data.DataLoader(\n",
    "    train_dataset,\n",
    "    batch_size=batch_size,\n",
    "    shuffle=True\n",
    ")"
   ]
  },
  {
   "cell_type": "code",
   "execution_count": 16,
   "metadata": {
    "colab": {
     "base_uri": "https://localhost:8080/",
     "height": 34
    },
    "colab_type": "code",
    "id": "ZjsmvkDLGhSd",
    "outputId": "f09c57cf-d4fe-4033-a57c-2d6f3c675510"
   },
   "outputs": [
    {
     "name": "stdout",
     "output_type": "stream",
     "text": [
      "torch.Size([64, 1, 64, 64])\n"
     ]
    }
   ],
   "source": [
    "batch_iterator = iter(train_dataloader)\n",
    "imges = next(batch_iterator)\n",
    "print(imges.size())"
   ]
  },
  {
   "cell_type": "markdown",
   "metadata": {
    "colab_type": "text",
    "id": "VnXWzk1XGhSg"
   },
   "source": [
    "## Train DCGAN"
   ]
  },
  {
   "cell_type": "code",
   "execution_count": 0,
   "metadata": {
    "colab": {},
    "colab_type": "code",
    "id": "fet2yIaUGhSh"
   },
   "outputs": [],
   "source": [
    "import torch.nn as nn"
   ]
  },
  {
   "cell_type": "code",
   "execution_count": 18,
   "metadata": {
    "colab": {
     "base_uri": "https://localhost:8080/",
     "height": 340
    },
    "colab_type": "code",
    "id": "jydoZFzJGhSi",
    "outputId": "243ff393-80aa-40b3-c27e-f07894e97c03"
   },
   "outputs": [
    {
     "data": {
      "text/plain": [
       "Discriminator(\n",
       "  (layer1): Sequential(\n",
       "    (0): Conv2d(1, 64, kernel_size=(4, 4), stride=(2, 2), padding=(1, 1))\n",
       "    (1): LeakyReLU(negative_slope=0.1, inplace=True)\n",
       "  )\n",
       "  (layer2): Sequential(\n",
       "    (0): Conv2d(64, 128, kernel_size=(4, 4), stride=(2, 2), padding=(1, 1))\n",
       "    (1): LeakyReLU(negative_slope=0.1, inplace=True)\n",
       "  )\n",
       "  (layer3): Sequential(\n",
       "    (0): Conv2d(128, 256, kernel_size=(4, 4), stride=(2, 2), padding=(1, 1))\n",
       "    (1): LeakyReLU(negative_slope=0.1, inplace=True)\n",
       "  )\n",
       "  (layer4): Sequential(\n",
       "    (0): Conv2d(256, 512, kernel_size=(4, 4), stride=(2, 2), padding=(1, 1))\n",
       "    (1): LeakyReLU(negative_slope=0.1, inplace=True)\n",
       "  )\n",
       "  (last): Conv2d(512, 1, kernel_size=(4, 4), stride=(1, 1))\n",
       ")"
      ]
     },
     "execution_count": 18,
     "metadata": {
      "tags": []
     },
     "output_type": "execute_result"
    }
   ],
   "source": [
    "def weights_init(m):\n",
    "    classname = m.__class__.__name__\n",
    "    if classname.find('Conv') != -1:\n",
    "        # Initialize Conv2d and ConvTranspose2d\n",
    "        nn.init.normal_(m.weight.data, 0., 0.02)\n",
    "        nn.init.constant_(m.bias.data, 0)\n",
    "    elif classname.find('BatchNorm') != -1:\n",
    "        # Initialize BatchNorm2d\n",
    "        nn.init.normal_(m.weight.data, 1., 0.02)\n",
    "        nn.init.constant_(m.bias.data, 0)\n",
    "        \n",
    "G.apply(weights_init)\n",
    "D.apply(weights_init)"
   ]
  },
  {
   "cell_type": "code",
   "execution_count": 0,
   "metadata": {
    "colab": {},
    "colab_type": "code",
    "id": "thqMwQFXGhSk"
   },
   "outputs": [],
   "source": [
    "import time"
   ]
  },
  {
   "cell_type": "code",
   "execution_count": 0,
   "metadata": {
    "colab": {},
    "colab_type": "code",
    "id": "48fd8Af5GhSm"
   },
   "outputs": [],
   "source": [
    "def train_model(G, D, dataloader, num_epochs):\n",
    "    # Device\n",
    "    device = torch.device('cuda:0' if torch.cuda.is_available() else 'cpu' )\n",
    "    \n",
    "    # Optimizer\n",
    "    g_lr, d_lr = 0.0001, 0.0004\n",
    "    beta1, beta2 = 0., .9\n",
    "    g_optimizer = torch.optim.Adam(G.parameters(), g_lr, [beta1, beta2])\n",
    "    d_optimizer = torch.optim.Adam(D.parameters(), d_lr, [beta1, beta2])\n",
    "    \n",
    "    # Loss\n",
    "    criterion = nn.BCEWithLogitsLoss(reduction='mean')\n",
    "    \n",
    "    z_dim = 20\n",
    "    mini_batch_size = 64\n",
    "    \n",
    "    # Put models to GPU\n",
    "    G.to(device)\n",
    "    D.to(device)\n",
    "    \n",
    "    G.train()\n",
    "    D.train()\n",
    "    \n",
    "    torch.backends.cudnn.benchmark = True\n",
    "    \n",
    "    num_train_imgs = len(dataloader.dataset)\n",
    "    batch_size = dataloader.batch_size\n",
    "    \n",
    "    iteration = 1\n",
    "    logs = []\n",
    "    \n",
    "    # epoch\n",
    "    for epoch in range(num_epochs):\n",
    "        t_epoch_start = time.time()\n",
    "        epoch_g_loss = 0.\n",
    "        epoch_d_loss = 0.\n",
    "        \n",
    "        print('----------------')\n",
    "        \n",
    "        for imges in dataloader:\n",
    "            \n",
    "            #-----------------------------\n",
    "            #Train Discriminator\n",
    "            #-----------------------------\n",
    "            \n",
    "            if imges.size()[0] == 1:\n",
    "                continue\n",
    "                \n",
    "            imges = imges.to(device)\n",
    "            \n",
    "            # Labels\n",
    "            mini_batch_size = imges.size()[0]\n",
    "            label_real = torch.full((mini_batch_size,), 1).to(device)\n",
    "            label_fake = torch.full((mini_batch_size,), 0).to(device)\n",
    "            \n",
    "            # Evaluate real images\n",
    "            d_out_real = D(imges)\n",
    "            \n",
    "            # Make fake images and Evaluate those images\n",
    "            input_z = torch.randn(mini_batch_size, z_dim).to(device)\n",
    "            input_z = input_z.view(input_z.size(0), input_z.size(1), 1, 1)\n",
    "            fake_images = G(input_z)\n",
    "            d_out_fake = D(fake_images)\n",
    "            \n",
    "            # Calculate loss\n",
    "            d_loss_real = criterion(d_out_real.view(-1), label_real)\n",
    "            d_loss_fake = criterion(d_out_fake.view(-1), label_fake)\n",
    "            d_loss = d_loss_real + d_loss_fake\n",
    "            \n",
    "            # Backpropagation\n",
    "            g_optimizer.zero_grad()\n",
    "            d_optimizer.zero_grad()\n",
    "            \n",
    "            d_loss.backward()\n",
    "            d_optimizer.step()\n",
    "            \n",
    "            #------------------------\n",
    "            # Generator\n",
    "            #------------------------\n",
    "            input_z = torch.randn(mini_batch_size, z_dim).to(device)\n",
    "            input_z = input_z.view(input_z.size(0), input_z.size(1), 1, 1)\n",
    "            fake_images = G(input_z)\n",
    "            d_out_fake = D(fake_images)\n",
    "            \n",
    "            \n",
    "            # Loss\n",
    "            g_loss = criterion(d_out_fake.view(-1), label_real)\n",
    "            \n",
    "            # Backpropagation\n",
    "            g_optimizer.zero_grad()\n",
    "            d_optimizer.zero_grad()\n",
    "            g_loss.backward()\n",
    "            g_optimizer.step()\n",
    "            \n",
    "            epoch_d_loss += d_loss.item()\n",
    "            epoch_g_loss += g_loss.item()\n",
    "            iteration += 1\n",
    "            \n",
    "        t_epoch_finish = time.time()\n",
    "        print('---------------')\n",
    "        print('epoch {} || Epch_D_Loss:{:.4f} || Epoch_G_Loss:{:.4f}'.format(\n",
    "            epoch, epoch_d_loss/batch_size, epoch_g_loss/batch_size))\n",
    "        print('timer: {:.4f} sec.'.format(t_epoch_finish - t_epoch_start))\n",
    "        t_epoch_start = time.time()\n",
    "        \n",
    "    return G,D\n",
    "            "
   ]
  },
  {
   "cell_type": "code",
   "execution_count": null,
   "metadata": {
    "colab": {
     "base_uri": "https://localhost:8080/",
     "height": 1000
    },
    "colab_type": "code",
    "id": "UPKZZKxtGhSn",
    "outputId": "2f3ae6b9-c33b-43a8-8034-4a7fd9655767"
   },
   "outputs": [],
   "source": [
    "num_epochs = 200\n",
    "G_update, D_update = train_model(\n",
    "    G, D, dataloader=train_dataloader, num_epochs=num_epochs\n",
    ")"
   ]
  },
  {
   "cell_type": "code",
   "execution_count": 22,
   "metadata": {
    "colab": {
     "base_uri": "https://localhost:8080/",
     "height": 374
    },
    "colab_type": "code",
    "id": "d4gpQ-GBGhSp",
    "outputId": "ef5ca92f-9e73-40c9-d4b1-68c36cb96355"
   },
   "outputs": [
    {
     "data": {
      "image/png": "[encoded data removed]",
      "text/plain": [
       "<Figure size 1080x432 with 10 Axes>"
      ]
     },
     "metadata": {
      "tags": []
     },
     "output_type": "display_data"
    }
   ],
   "source": [
    "device = torch.device(\"cuda:0\" if torch.cuda.is_available() else 'cpu')\n",
    "\n",
    "batch_size = 8\n",
    "z_dim = 20\n",
    "fixed_z = torch.randn(batch_size, z_dim)\n",
    "fixed_z = fixed_z.view(fixed_z.size(0), fixed_z.size(1), 1, 1)\n",
    "\n",
    "fake_images = G_update(fixed_z.to(device))\n",
    "\n",
    "batch_iterator = iter(train_dataloader)\n",
    "imges = next(batch_iterator)\n",
    "\n",
    "fig = plt.figure(figsize=(15, 6))\n",
    "for i in range(0, 5):\n",
    "  plt.subplot(2, 5, i+1)\n",
    "  plt.imshow(imges[i][0].cpu().detach().numpy(), 'gray')\n",
    "  \n",
    "  plt.subplot(2, 5, 5+i+1)\n",
    "  plt.imshow(fake_images[i][0].cpu().detach().numpy(), 'gray')"
   ]
  },
  {
   "cell_type": "markdown",
   "metadata": {
    "colab_type": "text",
    "id": "sn96UrCvPT4P"
   },
   "source": [
    "# Self-Attention GAN"
   ]
  },
  {
   "cell_type": "markdown",
   "metadata": {
    "colab_type": "text",
    "id": "FdRLw2Tx36PI"
   },
   "source": [
    "## Self Attention Class"
   ]
  },
  {
   "cell_type": "code",
   "execution_count": 0,
   "metadata": {
    "colab": {},
    "colab_type": "code",
    "id": "o__ct-lCPSFE"
   },
   "outputs": [],
   "source": [
    "import torch.nn as nn\n",
    "import torch"
   ]
  },
  {
   "cell_type": "code",
   "execution_count": 0,
   "metadata": {
    "colab": {},
    "colab_type": "code",
    "id": "glRCiOnR35Zt"
   },
   "outputs": [],
   "source": [
    "class Self_Attention(nn.Module):\n",
    "  def __init__(self, in_dim):\n",
    "    super(Self_Attention, self).__init__()\n",
    "    # Pointwise convolution\n",
    "    self.query_conv =nn.Conv2d(in_channels=in_dim, out_channels=in_dim//8, kernel_size=1)\n",
    "    self.key_conv = nn.Conv2d(in_channels=in_dim, out_channels=in_dim//8, kernel_size=1)\n",
    "    self.value_conv = nn.Conv2d(in_channels=in_dim, out_channels=in_dim, kernel_size=1)\n",
    "    \n",
    "    # Softmax for normalizing Attention Map\n",
    "    self.softmax = nn.Softmax(dim=-2)\n",
    "    \n",
    "    # output = x + gamma*o\n",
    "    # gamma is a learnable parameter.\n",
    "    self.gamma = nn.Paramter(torch.zeros(1))\n",
    "  \n",
    "  def forward(self,x):\n",
    "    X = x\n",
    "    \n",
    "    # B x C x W x H -> B x C' x N\n",
    "    proj_query = self.query_conv(X).view(X.shape[0], -1, X.shape[2]*X.shape[3])\n",
    "    proj_query = proj_query.permute(0, 2, 1)\n",
    "    proj_key = self.key_conv(X).view(X.shape[0], -1, X.shape[2]*X.shape[3])\n",
    "    \n",
    "    # xt * x\n",
    "    S = torch.bmm(proj_query, proj_key)\n",
    "    \n",
    "    # Normalizing attention map\n",
    "    attention_map_T = self.softmax(S)\n",
    "    attention_map = attention_map_T.permute(0, 2, 1)\n",
    "    \n",
    "    # Self-Attention Map\n",
    "    proj_value = self.value_conv(X).view(X.shape[0], -1, X.shape[2]*X.shape[3])\n",
    "    o = torch.bmm(proj_value, attention_map.permute(0, 2, 1))\n",
    "    \n",
    "    o = o.view(X.shpae[0], X.shape[1], X.shape[2], X.shape[3])\n",
    "    out = x+self.gamma*o\n",
    "    \n",
    "    return out, attention_map\n",
    "    "
   ]
  },
  {
   "cell_type": "markdown",
   "metadata": {
    "colab_type": "text",
    "id": "DQzSbfcO6tfR"
   },
   "source": [
    "## Generator Class"
   ]
  },
  {
   "cell_type": "code",
   "execution_count": 0,
   "metadata": {
    "colab": {},
    "colab_type": "code",
    "id": "TQQSw5ns4IBT"
   },
   "outputs": [],
   "source": [
    "class Generator(nn.Module):\n",
    "  def __init__(self, z_dim=20, image_size=64):\n",
    "    super(Generator, self).__init__()\n",
    "    \n",
    "    self.layer1 = nn.Sequential(\n",
    "        nn.utils.spectral_norm(nn.ConvTranspose2d(z_dim, image_size*8, kernel_size=4, stride=1)),\n",
    "        nn.BatchNorm2d(image_size*8),\n",
    "        nn.ReLU(inplace=True)\n",
    "    )\n",
    "    \n",
    "    self.layer2 = nn.Sequential(\n",
    "        nn.utils.spectral_norm(nn.ConvTranspose2d(image_size *8, image_size*4, kernel_size=4, stride=2, padding=1)),\n",
    "        nn.BatchNorm2d(image_size*4),\n",
    "        nn.ReLU(inplace=True)\n",
    "    )\n",
    "    \n",
    "    self.layer3 = nn.Sequential(\n",
    "        nn.utils.spectral_norm(nn.ConvTranspose2d(image_size*4, image_size*2, kernel_size=4, stride=2, padding=1)),\n",
    "        nn.BatchNorm2d(image_size*2),\n",
    "        nn.ReLU(inplace=True)\n",
    "    )\n",
    "    \n",
    "    self.self_attention1 = Self_Attention(in_dim=image_size*2)\n",
    "    \n",
    "    self.layer4 = nn.Sequential(\n",
    "        nn.utils.spectral_norm(nn.ConvTranspose2d(image_size*2, image_size, kernel_size=4, stride=2, padding=1)),\n",
    "        nn.BatchNorm2d(image_size),\n",
    "        nn.ReLU(inplace=True)\n",
    "    )\n",
    "    \n",
    "    self.self_attention2 = Self_Attention(in_dim=image_size)\n",
    "    \n",
    "    self.last = nn.Sequential(\n",
    "        nn.ConvTranspose2d(image_size, 1, kernel_size=4, stride=2, padding=1),\n",
    "        nn.Tanh()\n",
    "    )\n",
    "    \n",
    "    self.self_attention2 = Self_Attention(in_dim=64)\n",
    " \n",
    "  def forward(self, z):\n",
    "    out = self.layer1(z)\n",
    "    out = self.layer2(out)\n",
    "    out = self.layer3(out)\n",
    "    out, attention_map1 = self.self_attention1(out)\n",
    "    out = self.layer4(out)\n",
    "    out, attention_map2 = self.self_attention2(out)\n",
    "    out = self.last(out)\n",
    "    \n",
    "    return out\n"
   ]
  },
  {
   "cell_type": "markdown",
   "metadata": {
    "colab_type": "text",
    "id": "-th4zNRz_0ct"
   },
   "source": [
    "## Discriminator Class"
   ]
  },
  {
   "cell_type": "code",
   "execution_count": 0,
   "metadata": {
    "colab": {},
    "colab_type": "code",
    "id": "T4y0DVCH_rC9"
   },
   "outputs": [],
   "source": [
    "class Discriminator(nn.Module):\n",
    "  def __init__(self, z_dim=20, image_size=64):\n",
    "    super(Discriminator, self).__init__()\n",
    "    \n",
    "    self.layer1 = nn.Sequential(\n",
    "        nn.utils.spectral_norm(nn.Conv2d(1, image_size, kernel_size=4, stride=2, padding=1)),\n",
    "        nn.LeakyReLU(0.1, inplace=True)\n",
    "    )\n",
    "    \n",
    "    self.layer2 = nn.Sequential(\n",
    "        nn.utils.spectral_norm(nn.Conv2d(image_size*2, image_size*4, kernel_size=4, stride=2, padding=1)),\n",
    "        nn.LeakyReLU(0.1, inplace=True)\n",
    "    )\n",
    "    \n",
    "    self.layer3 = nn.Sequential(\n",
    "        nn.utils.spectral_norm(nn.Conv2d(image_size*2, image_size*4, kernel_size=4, stride=2, padding=1)),\n",
    "        nn.LeakyReLU(0.1,inplace=True)\n",
    "    )\n",
    "    \n",
    "    self.self_attention1 = SelfAttention(in_dim=image_size*8)\n",
    "    \n",
    "    self.layer4 = nn.Sequential(\n",
    "        nn.spectral_norm(nn.Conv2d(image_size*4, image_size*8, kernel_size=4, stride=2, padding=1)),\n",
    "        nn.LeakyReLU(0.1, inplace=True)\n",
    "    )\n",
    "    \n",
    "    self.self_attention2 = SelfAttention(in_dim=image_size*8)\n",
    "    \n",
    "    self.last = nn.Conv2d(image_size*8, 1, kernel_size=4, stride=1)\n",
    "    \n",
    "  def forward(self,x):\n",
    "    out = self.layer1(x)\n",
    "    out = self.layer2(out)\n",
    "    out = self.layer3(out)\n",
    "    out, attention_map1 = self.self_attention1(out)\n",
    "    out = self.layer4(out)\n",
    "    out, attention_map2 = self.self_attention2(out)\n",
    "    out = self.last(out)\n",
    "    \n",
    "    return out"
   ]
  },
  {
   "cell_type": "markdown",
   "metadata": {
    "colab_type": "text",
    "id": "sZ1tMNlt_BB6"
   },
   "source": [
    "## Train Model"
   ]
  },
  {
   "cell_type": "code",
   "execution_count": 0,
   "metadata": {
    "colab": {},
    "colab_type": "code",
    "id": "tWSk91CR_ATs"
   },
   "outputs": [],
   "source": [
    "def train_model(G,D, dataloader, num_epochs):\n",
    "  # GPU\n",
    "  device = torch.device(\"cuda:0\" if torch.cuda.is_available() else \"cpu\")\n",
    "  \n",
    "  # Optimizer\n",
    "  g_lr, d_lr = 0.0001, 0.0004\n",
    "  beta1, beta2 = 0.0, 0.9\n",
    "  g_optimizer = torch.optim.Adam(G.parameters(), g_lr, [beta1, beta2])\n",
    "  d_optimizer = torch.optim.Adam(D.parameters(), d_lr, [beta1, beta2])\n",
    "  \n",
    "  z_dim =20\n",
    "  mini_batch_size=64\n",
    "  \n",
    "  G.to(device)\n",
    "  D.to(device)\n",
    "  \n",
    "  G.train()\n",
    "  D.train()\n",
    "  \n",
    "  torch.backends.benchmark = True\n",
    "  \n",
    "  num_train_imgs = len(dataloader.dataset)\n",
    "  batch_size = dataloader.batch_size\n",
    "  \n",
    "  iteration = 1\n",
    "  logs = []\n",
    "  \n",
    "  for epoch in range(num_epochs):\n",
    "    t_epoch_start = time.time()\n",
    "    epoch_g_loss = 0.\n",
    "    epoch_d_loss = 0.\n",
    "    \n",
    "    print('-----------------')\n",
    "    print('Epoch {}/{}'.format(epoch, num_epochs))\n",
    "    print('-----------------')\n",
    "    print(' (train) ')\n",
    "    \n",
    "    for imges in dataloader:\n",
    "      \n",
    "      ### Discriminator\n",
    "      if imges.size()[0] == 1:\n",
    "        continue\n",
    "        \n",
    "      imges = imges.to(device)\n",
    "      mini_batch_size = imges.size()[0]\n",
    "      \n",
    "      # Discriminate real images(all values are expected to be 1)\n",
    "      d_out_real= D(imges)\n",
    "      \n",
    "      # Generate fake images and Discriminate those(all values are expected to be 0)\n",
    "      input_z = torch.randn(mini_batch_size, z_dim).to(device)\n",
    "      input_z = input_z.view(input_z.size(0), input_z.size(1), 1, 1)\n",
    "      fake_images= G(input_z)\n",
    "      d_out_fake= D(fake_images)\n",
    "      \n",
    "      # Calculate loss for each real and fake\n",
    "      d_loss_real = torch.nn.ReLU()(1.0 - d_out_real).mean()\n",
    "      d_loss_fake = torch.nn.ReLU()(1.0 + d_out_fake).mean()\n",
    "      d_loss = d_loss_real + d_loss_fake\n",
    "      \n",
    "      # Optimize\n",
    "      g_optimizer.zero_grad()\n",
    "      d_optimizer.zero_grad()\n",
    "      d_loss.backward()\n",
    "      d_optimizer.step()\n",
    "      \n",
    "      ### Generator\n",
    "      \n",
    "      # Generate fake images and Discriminate those(0:fake, 1:real)\n",
    "      input_z = torch.randn(mini_batch_size, z_dim).to(device)\n",
    "      input_z = input_z.view(input_z.size(0), input_z.size(1), 1, 1)\n",
    "      fake_images = G(input_z)\n",
    "      d_out_fake = D(fake_images)\n",
    "      \n",
    "      # Calculate Loss: Generator wants D to output all 1s (wants it to think those real).\n",
    "      # If all outputs are 1s, g_loss can be the minimum value.\n",
    "      g_loss = - d_out_fake.mean()\n",
    "      \n",
    "      # Optimize\n",
    "      g_optimizer.zero_grad()\n",
    "      d_optimizer.zero_grad()\n",
    "      g_loss.backward()\n",
    "      g_optimizer.step()\n",
    "      \n",
    "      epoch_d_loss += d_loss.item()\n",
    "      epoch_g_loss += g_loss.item()\n",
    "      iteration += 1\n",
    "      \n",
    "    t_epoch_finish = time.time()\n",
    "    print('----------------')\n",
    "    print('epoch {} || Epoch_D_Loss:{:.4f} || Epoch_G_Loss:{:.4f}'.format(epoch, epoch_d_loss/batch_size, epoch_g_loss/batch_size))\n",
    "    print('timer: {:.4f} sec.'.format(t_epoch_finish - t_epoch_start))\n",
    "    t_epoch_start = time.time()\n",
    "    \n",
    "  return G, D"
   ]
  },
  {
   "cell_type": "markdown",
   "metadata": {
    "colab_type": "text",
    "id": "ZCXvfbYl_Bby"
   },
   "source": [
    "## Initialize"
   ]
  },
  {
   "cell_type": "code",
   "execution_count": null,
   "metadata": {
    "colab": {
     "base_uri": "https://localhost:8080/",
     "height": 1000
    },
    "colab_type": "code",
    "id": "FN8By-n7-7Ja",
    "outputId": "668839a0-3e0a-437d-ac46-733b84f540f3"
   },
   "outputs": [],
   "source": [
    "def weights_init(m):\n",
    "  classname = m.__class__.__name__\n",
    "  if classname.find('Conv') != -1:\n",
    "    # Initialize Conv2d and ConvTranspose2d\n",
    "    nn.init.normal_(m.weight.data, 0.0, 0.02)\n",
    "    nn.init.constant_(m.bias.data, 0)\n",
    "  elif classname.find('BatchNorm') != -1:\n",
    "    # Initialize BatchNorm\n",
    "    nn.init.normal_(m.weight.data, 1., 0.02)\n",
    "    nn.init.constant_(m.bias.data, 0)\n",
    "    \n",
    "G.apply(weights_init)\n",
    "D.apply(weights_init)\n",
    "\n",
    "num_epochs=300\n",
    "G_update, D_update = train_model(G, D, dataloader=train_dataloader, num_epochs=num_epochs)\n"
   ]
  },
  {
   "cell_type": "code",
   "execution_count": 55,
   "metadata": {
    "colab": {
     "base_uri": "https://localhost:8080/",
     "height": 374
    },
    "colab_type": "code",
    "id": "2dU_tGI8_Cqb",
    "outputId": "3ca90b1e-bc1e-48e2-b09d-83d6231bf8dc"
   },
   "outputs": [
    {
     "data": {
      "image/png": "[encoded data removed]",
      "text/plain": [
       "<Figure size 1080x432 with 10 Axes>"
      ]
     },
     "metadata": {
      "tags": []
     },
     "output_type": "display_data"
    }
   ],
   "source": [
    "device = torch.device('cuda:0' if torch.cuda.is_available() else 'cpu')\n",
    "\n",
    "# Random number\n",
    "batch_size = 8\n",
    "z_dim = 20\n",
    "fixed_z = torch.randn(batch_size, z_dim)\n",
    "fixed_z = fixed_z.view(fixed_z.size(0), fixed_z.size(1), 1, 1)\n",
    "\n",
    "fake_images = G_update(fixed_z.to(device))\n",
    "\n",
    "batch_iterator = iter(train_dataloader)\n",
    "imges = next(batch_iterator)\n",
    "\n",
    "fig = plt.figure(figsize=(15, 6))\n",
    "for i in range(0, 5):\n",
    "  plt.subplot(2, 5, i+1)\n",
    "  plt.imshow(imges[i][0].cpu().detach().numpy(), 'gray')\n",
    "  \n",
    "  plt.subplot(2, 5, 5+i+1)\n",
    "  plt.imshow(fake_images[i][0].cpu().detach().numpy(), 'gray')"
   ]
  },
  {
   "cell_type": "code",
   "execution_count": 0,
   "metadata": {
    "colab": {},
    "colab_type": "code",
    "id": "S9-wSF4csB1p"
   },
   "outputs": [],
   "source": []
  }
 ],
 "metadata": {
  "accelerator": "GPU",
  "colab": {
   "name": "5_gan_generation.ipynb",
   "provenance": [],
   "toc_visible": true
  },
  "kernelspec": {
   "display_name": "Python 3",
   "language": "python",
   "name": "python3"
  },
  "language_info": {
   "codemirror_mode": {
    "name": "ipython",
    "version": 3
   },
   "file_extension": ".py",
   "mimetype": "text/x-python",
   "name": "python",
   "nbconvert_exporter": "python",
   "pygments_lexer": "ipython3",
   "version": "3.6.3"
  },
  "varInspector": {
   "cols": {
    "lenName": 16,
    "lenType": 16,
    "lenVar": 40
   },
   "kernels_config": {
    "python": {
     "delete_cmd_postfix": "",
     "delete_cmd_prefix": "del ",
     "library": "var_list.py",
     "varRefreshCmd": "print(var_dic_list())"
    },
    "r": {
     "delete_cmd_postfix": ") ",
     "delete_cmd_prefix": "rm(",
     "library": "var_list.r",
     "varRefreshCmd": "cat(var_dic_list()) "
    }
   },
   "types_to_exclude": [
    "module",
    "function",
    "builtin_function_or_method",
    "instance",
    "_Feature"
   ],
   "window_display": false
  }
 },
 "nbformat": 4,
 "nbformat_minor": 1
}
